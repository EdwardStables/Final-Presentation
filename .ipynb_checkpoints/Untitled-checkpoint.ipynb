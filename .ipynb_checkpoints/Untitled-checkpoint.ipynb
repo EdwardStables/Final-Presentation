{
 "cells": [
  {
   "cell_type": "code",
   "execution_count": 1,
   "metadata": {},
   "outputs": [],
   "source": [
    "using HTTP\n",
    "using DirectSearch\n",
    "using JSON"
   ]
  },
  {
   "cell_type": "code",
   "execution_count": 2,
   "metadata": {},
   "outputs": [
    {
     "data": {
      "text/plain": [
       "f (generic function with 1 method)"
      ]
     },
     "execution_count": 2,
     "metadata": {},
     "output_type": "execute_result"
    }
   ],
   "source": [
    "cost = zeros(21, 21)\n",
    "x = range(-4,stop=4, length=400)\n",
    "y = range(-2,stop=2, length=400)\n",
    "f(x,y) = DS.camel6([x,y])"
   ]
  },
  {
   "cell_type": "code",
   "execution_count": 4,
   "metadata": {},
   "outputs": [
    {
     "data": {
      "text/plain": [
       "write_surface (generic function with 1 method)"
      ]
     },
     "execution_count": 4,
     "metadata": {},
     "output_type": "execute_result"
    }
   ],
   "source": [
    "function write_surface(x,y,f)\n",
    "    x_data = zeros(length(x))\n",
    "    y_data = zeros(length(y))\n",
    "    z_data = zeros(length(x), length(y))\n",
    "    for (i,r) in enumerate(x), (j,c) in enumerate(y)\n",
    "        x_data[i] = r\n",
    "        y_data[j] = c\n",
    "        z_data[i,j] = f(r,c)\n",
    "    end\n",
    "    \n",
    "    @show size(x_data)\n",
    "    @show size(y_data)\n",
    "    @show size(z_data)\n",
    "    \n",
    "    data = Dict(\"x\"=>x_data, \"y\"=>y_data, \"z\"=>z_data )\n",
    "    return JSON.json(Dict(\"response\" => \"surface\", \"data\" => data))\n",
    "end"
   ]
  },
  {
   "cell_type": "code",
   "execution_count": 5,
   "metadata": {},
   "outputs": [
    {
     "data": {
      "text/plain": [
       "get_path (generic function with 1 method)"
      ]
     },
     "execution_count": 5,
     "metadata": {},
     "output_type": "execute_result"
    }
   ],
   "source": [
    "function get_path()\n",
    "    i = [4,2]\n",
    "    points = run_DS(i)\n",
    "    \n",
    "    x = [x for (x,y,z) in points]\n",
    "    y = [y for (x,y,z) in points]\n",
    "    z = [z for (x,y,z) in points]\n",
    "\n",
    "    data = Dict(\"x\"=>x, \"y\"=>y, \"z\"=>z )\n",
    "    \n",
    "    return JSON.json(Dict(\"response\" => \"path\", \"data\" => data))\n",
    "end"
   ]
  },
  {
   "cell_type": "code",
   "execution_count": 6,
   "metadata": {},
   "outputs": [
    {
     "data": {
      "text/plain": [
       "Task (runnable) @0x00007f97f3644760"
      ]
     },
     "execution_count": 6,
     "metadata": {},
     "output_type": "execute_result"
    }
   ],
   "source": [
    "@async HTTP.WebSockets.listen(\"127.0.0.1\", UInt16(8084)) do ws\n",
    "    while !eof(ws)\n",
    "        data = String(readavailable(ws))\n",
    "        if String(data) == \"surface\"\n",
    "            println(\"surface\")\n",
    "            write(ws,write_surface(x,y,f))\n",
    "        elseif String(data) == \"path\"\n",
    "            println(\"path\")\n",
    "            write(ws,get_path())\n",
    "        else\n",
    "            println(String(data))\n",
    "        end\n",
    "    end\n",
    "end"
   ]
  },
  {
   "cell_type": "code",
   "execution_count": 7,
   "metadata": {},
   "outputs": [
    {
     "data": {
      "text/plain": [
       "run_DS (generic function with 1 method)"
      ]
     },
     "execution_count": 7,
     "metadata": {},
     "output_type": "execute_result"
    }
   ],
   "source": [
    "function run_DS(initial)\n",
    "    p = DSProblem(2; poll=OrthoMADS(2))\n",
    "    \n",
    "    SetObjective(p, DS.camel6)\n",
    "    SetInitialPoint(p, map(x->convert(Float64, x), initial))\n",
    "    Optimize!(p)\n",
    "    \n",
    "    \n",
    "    points = p.cache.order\n",
    "    points = [[x,y,p.cache.costs[[x,y]]] for (x,y) in p.cache.order]\n",
    "    return points\n",
    "end"
   ]
  },
  {
   "cell_type": "code",
   "execution_count": 8,
   "metadata": {},
   "outputs": [
    {
     "data": {
      "text/plain": [
       "162.89999999999998"
      ]
     },
     "execution_count": 8,
     "metadata": {},
     "output_type": "execute_result"
    }
   ],
   "source": [
    "DS.camel6([3,2])"
   ]
  }
 ],
 "metadata": {
  "kernelspec": {
   "display_name": "Julia 1.4.1",
   "language": "julia",
   "name": "julia-1.4"
  },
  "language_info": {
   "file_extension": ".jl",
   "mimetype": "application/julia",
   "name": "julia",
   "version": "1.4.1"
  }
 },
 "nbformat": 4,
 "nbformat_minor": 4
}
