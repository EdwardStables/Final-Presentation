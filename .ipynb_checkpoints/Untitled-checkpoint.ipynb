{
 "cells": [
  {
   "cell_type": "code",
   "execution_count": 1,
   "metadata": {},
   "outputs": [],
   "source": [
    "using HTTP\n",
    "using DirectSearch\n",
    "using JSON"
   ]
  },
  {
   "cell_type": "code",
   "execution_count": 2,
   "metadata": {},
   "outputs": [
    {
     "data": {
      "text/plain": [
       "f (generic function with 1 method)"
      ]
     },
     "execution_count": 2,
     "metadata": {},
     "output_type": "execute_result"
    }
   ],
   "source": [
    "cost = zeros(21, 21)\n",
    "x = range(-4,stop=4, length=400)\n",
    "y = range(-2,stop=2, length=400)\n",
    "f(x,y) = DS.camel6([x,y])"
   ]
  },
  {
   "cell_type": "code",
   "execution_count": 3,
   "metadata": {},
   "outputs": [
    {
     "data": {
      "text/plain": [
       "write_surface (generic function with 1 method)"
      ]
     },
     "execution_count": 3,
     "metadata": {},
     "output_type": "execute_result"
    }
   ],
   "source": [
    "function write_surface(x,y,f)\n",
    "    x_data = zeros(length(x))\n",
    "    y_data = zeros(length(y))\n",
    "    z_data = zeros(length(x), length(y))\n",
    "    for (i,r) in enumerate(x), (j,c) in enumerate(y)\n",
    "        x_data[i] = r\n",
    "        y_data[j] = c\n",
    "        z_data[i,j] = f(r,c)\n",
    "    end\n",
    "    \n",
    "    @show size(x_data)\n",
    "    @show size(y_data)\n",
    "    @show size(z_data)\n",
    "    \n",
    "    data = Dict(\"x\"=>x_data, \"y\"=>y_data, \"z\"=>z_data )\n",
    "    return JSON.json(Dict(\"response\" => \"surface\", \"data\" => data))\n",
    "end"
   ]
  },
  {
   "cell_type": "code",
   "execution_count": 4,
   "metadata": {},
   "outputs": [
    {
     "data": {
      "text/plain": [
       "get_path (generic function with 1 method)"
      ]
     },
     "execution_count": 4,
     "metadata": {},
     "output_type": "execute_result"
    }
   ],
   "source": [
    "function get_path(i)\n",
    "    points = run_DS(i)\n",
    "    \n",
    "    x = [x for (x,y,z) in points]\n",
    "    y = [y for (x,y,z) in points]\n",
    "    z = [z for (x,y,z) in points]\n",
    "\n",
    "    data = Dict(\"x\"=>x, \"y\"=>y, \"z\"=>z )\n",
    "    \n",
    "    return JSON.json(Dict(\"response\" => \"path\", \"data\" => data))\n",
    "end"
   ]
  },
  {
   "cell_type": "code",
   "execution_count": 5,
   "metadata": {},
   "outputs": [
    {
     "data": {
      "text/plain": [
       "Task (runnable) @0x00007f1f0a1189d0"
      ]
     },
     "execution_count": 5,
     "metadata": {},
     "output_type": "execute_result"
    }
   ],
   "source": [
    "@async HTTP.WebSockets.listen(\"127.0.0.1\", UInt16(8084)) do ws\n",
    "    while !eof(ws)\n",
    "        data = JSON.parse(String(readavailable(ws)))\n",
    "        \n",
    "        if data[\"type\"] == \"surface\"\n",
    "            println(\"surface\")\n",
    "            write(ws,write_surface(x,y,f))\n",
    "        elseif data[\"type\"] == \"path\"\n",
    "            println(\"path\")\n",
    "            write(ws,get_path(data[\"inp\"]))\n",
    "        else\n",
    "            println(String(data))\n",
    "        end\n",
    "    end\n",
    "end"
   ]
  },
  {
   "cell_type": "code",
   "execution_count": 6,
   "metadata": {},
   "outputs": [
    {
     "data": {
      "text/plain": [
       "run_DS (generic function with 1 method)"
      ]
     },
     "execution_count": 6,
     "metadata": {},
     "output_type": "execute_result"
    },
    {
     "name": "stdout",
     "output_type": "stream",
     "text": [
      "surface\n",
      "size(x_data) = (400,)\n",
      "size(y_data) = (400,)\n",
      "size(z_data) = (400, 400)\n",
      "path\n"
     ]
    },
    {
     "name": "stderr",
     "output_type": "stream",
     "text": [
      "┌ Error: error handling request\n",
      "│   exception = (ArgumentError(\"map(f, s::AbstractString) requires f to return AbstractChar; try map(f, collect(s)) or a comprehension instead\"), Base.StackTraces.StackFrame[map(::var\"#17#19\", ::String) at basic.jl:575, run_DS(::String) at In[6]:5, get_path(::String) at In[4]:2, (::var\"#14#16\")(::HTTP.WebSockets.WebSocket{HTTP.ConnectionPool.Transaction{Sockets.TCPSocket}}) at In[5]:10, upgrade(::var\"#14#16\", ::HTTP.Streams.Stream{HTTP.Messages.Request,HTTP.ConnectionPool.Transaction{Sockets.TCPSocket}}; binary::Bool) at WebSockets.jl:146, upgrade at WebSockets.jl:129 [inlined], #6 at WebSockets.jl:123 [inlined], macro expansion at Servers.jl:367 [inlined], (::HTTP.Servers.var\"#13#14\"{HTTP.WebSockets.var\"#6#7\"{Bool,var\"#14#16\"},HTTP.ConnectionPool.Transaction{Sockets.TCPSocket},HTTP.Streams.Stream{HTTP.Messages.Request,HTTP.ConnectionPool.Transaction{Sockets.TCPSocket}}})() at task.jl:358])\n",
      "└ @ HTTP.Servers /home/ed/.julia/packages/HTTP/BOJmV/src/Servers.jl:373\n"
     ]
    },
    {
     "name": "stdout",
     "output_type": "stream",
     "text": [
      "surface\n",
      "size(x_data) = (400,)\n",
      "size(y_data) = (400,)\n",
      "size(z_data) = (400, 400)\n",
      "path\n",
      "path\n",
      "path\n",
      "path\n",
      "path\n"
     ]
    },
    {
     "name": "stderr",
     "output_type": "stream",
     "text": [
      "┌ Error: error handling request\n",
      "│   exception = (HTTP.WebSockets.WebSocketError(0xcb90, \"\"), Base.StackTraces.StackFrame[readframe(::HTTP.WebSockets.WebSocket{HTTP.ConnectionPool.Transaction{Sockets.TCPSocket}}) at WebSockets.jl:272, readavailable(::HTTP.WebSockets.WebSocket{HTTP.ConnectionPool.Transaction{Sockets.TCPSocket}}) at WebSockets.jl:239, (::var\"#14#16\")(::HTTP.WebSockets.WebSocket{HTTP.ConnectionPool.Transaction{Sockets.TCPSocket}}) at In[5]:3, upgrade(::var\"#14#16\", ::HTTP.Streams.Stream{HTTP.Messages.Request,HTTP.ConnectionPool.Transaction{Sockets.TCPSocket}}; binary::Bool) at WebSockets.jl:146, upgrade at WebSockets.jl:129 [inlined], #6 at WebSockets.jl:123 [inlined], macro expansion at Servers.jl:367 [inlined], (::HTTP.Servers.var\"#13#14\"{HTTP.WebSockets.var\"#6#7\"{Bool,var\"#14#16\"},HTTP.ConnectionPool.Transaction{Sockets.TCPSocket},HTTP.Streams.Stream{HTTP.Messages.Request,HTTP.ConnectionPool.Transaction{Sockets.TCPSocket}}})() at task.jl:358])\n",
      "└ @ HTTP.Servers /home/ed/.julia/packages/HTTP/BOJmV/src/Servers.jl:373\n"
     ]
    },
    {
     "name": "stdout",
     "output_type": "stream",
     "text": [
      "surface\n",
      "size(x_data) = (400,)\n",
      "size(y_data) = (400,)\n",
      "size(z_data) = (400, 400)\n",
      "path\n"
     ]
    },
    {
     "name": "stderr",
     "output_type": "stream",
     "text": [
      "┌ Error: error handling request\n",
      "│   exception = (HTTP.WebSockets.WebSocketError(0xa2a1, \"\"), Base.StackTraces.StackFrame[readframe(::HTTP.WebSockets.WebSocket{HTTP.ConnectionPool.Transaction{Sockets.TCPSocket}}) at WebSockets.jl:272, readavailable(::HTTP.WebSockets.WebSocket{HTTP.ConnectionPool.Transaction{Sockets.TCPSocket}}) at WebSockets.jl:239, (::var\"#14#16\")(::HTTP.WebSockets.WebSocket{HTTP.ConnectionPool.Transaction{Sockets.TCPSocket}}) at In[5]:3, upgrade(::var\"#14#16\", ::HTTP.Streams.Stream{HTTP.Messages.Request,HTTP.ConnectionPool.Transaction{Sockets.TCPSocket}}; binary::Bool) at WebSockets.jl:146, upgrade at WebSockets.jl:129 [inlined], #6 at WebSockets.jl:123 [inlined], macro expansion at Servers.jl:367 [inlined], (::HTTP.Servers.var\"#13#14\"{HTTP.WebSockets.var\"#6#7\"{Bool,var\"#14#16\"},HTTP.ConnectionPool.Transaction{Sockets.TCPSocket},HTTP.Streams.Stream{HTTP.Messages.Request,HTTP.ConnectionPool.Transaction{Sockets.TCPSocket}}})() at task.jl:358])\n",
      "└ @ HTTP.Servers /home/ed/.julia/packages/HTTP/BOJmV/src/Servers.jl:373\n"
     ]
    },
    {
     "name": "stdout",
     "output_type": "stream",
     "text": [
      "surface\n",
      "size(x_data) = (400,)\n",
      "size(y_data) = (400,)\n",
      "size(z_data) = (400, 400)\n",
      "path\n",
      "path\n"
     ]
    },
    {
     "name": "stderr",
     "output_type": "stream",
     "text": [
      "┌ Error: error handling request\n",
      "│   exception = (HTTP.WebSockets.WebSocketError(0xe03e, \"\"), Base.StackTraces.StackFrame[readframe(::HTTP.WebSockets.WebSocket{HTTP.ConnectionPool.Transaction{Sockets.TCPSocket}}) at WebSockets.jl:272, readavailable(::HTTP.WebSockets.WebSocket{HTTP.ConnectionPool.Transaction{Sockets.TCPSocket}}) at WebSockets.jl:239, (::var\"#14#16\")(::HTTP.WebSockets.WebSocket{HTTP.ConnectionPool.Transaction{Sockets.TCPSocket}}) at In[5]:3, upgrade(::var\"#14#16\", ::HTTP.Streams.Stream{HTTP.Messages.Request,HTTP.ConnectionPool.Transaction{Sockets.TCPSocket}}; binary::Bool) at WebSockets.jl:146, upgrade at WebSockets.jl:129 [inlined], #6 at WebSockets.jl:123 [inlined], macro expansion at Servers.jl:367 [inlined], (::HTTP.Servers.var\"#13#14\"{HTTP.WebSockets.var\"#6#7\"{Bool,var\"#14#16\"},HTTP.ConnectionPool.Transaction{Sockets.TCPSocket},HTTP.Streams.Stream{HTTP.Messages.Request,HTTP.ConnectionPool.Transaction{Sockets.TCPSocket}}})() at task.jl:358])\n",
      "└ @ HTTP.Servers /home/ed/.julia/packages/HTTP/BOJmV/src/Servers.jl:373\n"
     ]
    },
    {
     "name": "stdout",
     "output_type": "stream",
     "text": [
      "surface\n",
      "size(x_data) = (400,)\n",
      "size(y_data) = (400,)\n",
      "size(z_data) = (400, 400)\n",
      "path\n",
      "path\n",
      "path\n"
     ]
    },
    {
     "name": "stderr",
     "output_type": "stream",
     "text": [
      "┌ Error: error handling request\n",
      "│   exception = (HTTP.WebSockets.WebSocketError(0xe139, \"\"), Base.StackTraces.StackFrame[readframe(::HTTP.WebSockets.WebSocket{HTTP.ConnectionPool.Transaction{Sockets.TCPSocket}}) at WebSockets.jl:272, readavailable(::HTTP.WebSockets.WebSocket{HTTP.ConnectionPool.Transaction{Sockets.TCPSocket}}) at WebSockets.jl:239, (::var\"#14#16\")(::HTTP.WebSockets.WebSocket{HTTP.ConnectionPool.Transaction{Sockets.TCPSocket}}) at In[5]:3, upgrade(::var\"#14#16\", ::HTTP.Streams.Stream{HTTP.Messages.Request,HTTP.ConnectionPool.Transaction{Sockets.TCPSocket}}; binary::Bool) at WebSockets.jl:146, upgrade at WebSockets.jl:129 [inlined], #6 at WebSockets.jl:123 [inlined], macro expansion at Servers.jl:367 [inlined], (::HTTP.Servers.var\"#13#14\"{HTTP.WebSockets.var\"#6#7\"{Bool,var\"#14#16\"},HTTP.ConnectionPool.Transaction{Sockets.TCPSocket},HTTP.Streams.Stream{HTTP.Messages.Request,HTTP.ConnectionPool.Transaction{Sockets.TCPSocket}}})() at task.jl:358])\n",
      "└ @ HTTP.Servers /home/ed/.julia/packages/HTTP/BOJmV/src/Servers.jl:373\n"
     ]
    }
   ],
   "source": [
    "function run_DS(initial)\n",
    "    p = DSProblem(2; poll=OrthoMADS(2))\n",
    "    \n",
    "    SetObjective(p, DS.camel6)\n",
    "    SetInitialPoint(p, map(x->convert(Float64, x), initial))\n",
    "    Optimize!(p)\n",
    "    \n",
    "    \n",
    "    points = p.cache.order\n",
    "    points = [[x,y,p.cache.costs[[x,y]]] for (x,y) in p.cache.order]\n",
    "    return points\n",
    "end"
   ]
  },
  {
   "cell_type": "code",
   "execution_count": 8,
   "metadata": {},
   "outputs": [
    {
     "data": {
      "text/plain": [
       "162.89999999999998"
      ]
     },
     "execution_count": 8,
     "metadata": {},
     "output_type": "execute_result"
    }
   ],
   "source": [
    "DS.camel6([3,2])"
   ]
  }
 ],
 "metadata": {
  "kernelspec": {
   "display_name": "Julia 1.4.1",
   "language": "julia",
   "name": "julia-1.4"
  },
  "language_info": {
   "file_extension": ".jl",
   "mimetype": "application/julia",
   "name": "julia",
   "version": "1.4.1"
  }
 },
 "nbformat": 4,
 "nbformat_minor": 4
}
